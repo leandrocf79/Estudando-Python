{
 "cells": [
  {
   "cell_type": "code",
   "execution_count": 8,
   "metadata": {},
   "outputs": [
    {
     "name": "stdout",
     "output_type": "stream",
     "text": [
      "Soma igual a 15\n",
      "7\n",
      "A soma é 15\n",
      "A soma é 15 e a subtração é 5\n",
      "A soma é 15, a divisão é 2.0 e a subtração \n",
      " --> é 5\n",
      "15\n",
      "5\n",
      "50\n",
      "2.0\n",
      "0\n"
     ]
    }
   ],
   "source": [
    "a=10\n",
    "b=5\n",
    "\n",
    "soma=a+b\n",
    "subtracao=a-b\n",
    "multiplicacao=a*b\n",
    "divisao=a/b\n",
    "resto=a%b\n",
    "\n",
    "\n",
    "\n",
    "#type(soma)\n",
    "print('Soma igual a '+ str(soma))\n",
    "\n",
    "# str to int\n",
    "x='3'\n",
    "soma2=(int(x)+ 4)\n",
    "print(soma2)\n",
    "\n",
    "# USAR ESSE FORMATO muito melhor porque nao importa o tipo se int float str\n",
    "#outra forma\n",
    "print('A soma é {}' .format(soma))\n",
    "#outra forma\n",
    "print('A soma é {} e a subtração é {}'.format(soma, subtracao))\n",
    "\n",
    "#para fazer FORA DE ORDEM fica assim\n",
    "print('A soma é {soma}, a divisão é {div} e a subtração \\n --> é {subtracao}' .format(subtracao=subtracao, soma=soma, div=divisao))\n",
    "\n",
    "\n",
    "\n",
    "print(soma)\n",
    "print(subtracao)\n",
    "print(multiplicacao)\n",
    "print(divisao)\n",
    "print(resto)\n",
    "\n",
    "\n"
   ]
  },
  {
   "cell_type": "code",
   "execution_count": 18,
   "metadata": {},
   "outputs": [
    {
     "name": "stdout",
     "output_type": "stream",
     "text": [
      "Digite o primeiro valor e pressione ENTER: 8\n",
      "e o segundo: 8\n",
      "16\n",
      "0\n",
      "64\n",
      "\n",
      " 1.0\n",
      "0\n"
     ]
    }
   ],
   "source": [
    "# INTERAGIR COM O USUARIO\n",
    "\n",
    "# colocar o input dentro do inteiro int para nao dar erro\n",
    "a=int(input('Digite o primeiro valor e pressione ENTER: '))\n",
    "b=int(input('e o segundo: '))\n",
    "\n",
    "# as formulas\n",
    "soma=a+b\n",
    "subtracao=a-b\n",
    "multiplicacao=a*b\n",
    "divisao=a/b\n",
    "resto=a%b\n",
    "print(soma)\n",
    "print(subtracao)\n",
    "print(multiplicacao)\n",
    "print('\\n',divisao)\n",
    "print(resto)"
   ]
  },
  {
   "cell_type": "code",
   "execution_count": 33,
   "metadata": {},
   "outputs": [
    {
     "name": "stdout",
     "output_type": "stream",
     "text": [
      "Primeiro valor: 7\n",
      "Segundo valor: 6\n",
      "O maior número entre eles é o PRIMEIRO valor: 7\n",
      "\n",
      "Gostou? Tente outros números.\n"
     ]
    }
   ],
   "source": [
    "# if, else e elif\n",
    "# AND, OR e NOT\n",
    "\n",
    "a=input('Primeiro valor: ')\n",
    "b=input('Segundo valor: ')\n",
    "\n",
    "if a>b:\n",
    "    print('O maior número entre eles é o PRIMEIRO valor: {}' .format(a))\n",
    "else:\n",
    "    print('O maior número entre eles é o SEGUNDO valor: {}'.format(b))\n",
    "print('\\nGostou? Tente outros números.')"
   ]
  },
  {
   "cell_type": "code",
   "execution_count": 35,
   "metadata": {},
   "outputs": [
    {
     "name": "stdout",
     "output_type": "stream",
     "text": [
      "Primeiro valor: 45\n",
      "Segundo valor: 6\n",
      "Terceiro valor: 7\n",
      "o maior número entre eles é: 7\n",
      "\n",
      "Gostou? Tente outros números.\n"
     ]
    }
   ],
   "source": [
    "# ELIF é um else com if\n",
    "\n",
    "a=input('Primeiro valor: ')\n",
    "b=input('Segundo valor: ')\n",
    "c=input('Terceiro valor: ')\n",
    "if a>b and a>c:\n",
    "    print('O maior número entre eles é o PRIMEIRO valor: {}' .format(a))\n",
    "elif b>a and b>c:\n",
    "    print('O maior número entre eles é o SEGUNDO valor: {}'.format(b))\n",
    "else:\n",
    "    print('O maior número entre eles é: {}'.format(c))\n",
    "print('\\nGostou? Tente outros números.')\n"
   ]
  },
  {
   "cell_type": "code",
   "execution_count": 43,
   "metadata": {},
   "outputs": [
    {
     "name": "stdout",
     "output_type": "stream",
     "text": [
      "Entre com um número para saber se é par ou impar: 221645.65464\n",
      "\n",
      "É impar!\n"
     ]
    }
   ],
   "source": [
    "# Rsultados pares \n",
    "a=float(input('Entre com um número para saber se é par ou impar: '))\n",
    "resto = a%2\n",
    "if resto == 0:\n",
    "    print('\\nÉ par!')\n",
    "else:\n",
    "    print('\\nÉ impar!')\n",
    "    \n"
   ]
  },
  {
   "cell_type": "code",
   "execution_count": 49,
   "metadata": {},
   "outputs": [
    {
     "name": "stdout",
     "output_type": "stream",
     "text": [
      "Digite um número: 5\n",
      "Digite outro número: 7\n",
      "\n",
      "Nenhum número par foi digitado.\n"
     ]
    }
   ],
   "source": [
    "# Se há números pares entre os que foram digitados - uso do \"OR\"\n",
    "\n",
    "a=int(input('Digite um número: '))\n",
    "b=int(input('Digite outro número: '))\n",
    "resto_a = a%2\n",
    "resto_b = b%2\n",
    "if resto_a == 0 or resto_b==0:\n",
    "    print('\\nFoi digitado pelo menos 1 número par.')\n",
    "else:\n",
    "    print('\\nNenhum número par foi digitado.')\n"
   ]
  },
  {
   "cell_type": "code",
   "execution_count": 54,
   "metadata": {},
   "outputs": [
    {
     "name": "stdout",
     "output_type": "stream",
     "text": [
      "Digite um número: 3\n",
      "Digite outro número: 4\n",
      "\n",
      "Foi digitado pelo menos 1 número par.\n"
     ]
    }
   ],
   "source": [
    "# o NOT inverte a função\n",
    "\n",
    "a=int(input('Digite um número: '))\n",
    "b=int(input('Digite outro número: '))\n",
    "resto_a = a%2\n",
    "resto_b = b%2\n",
    "if resto_a == 0 or not resto_b>0:\n",
    "    print('\\nFoi digitado pelo menos 1 número par.')\n",
    "else:\n",
    "    print('\\nNenhum número PAR foi digitado.')"
   ]
  },
  {
   "cell_type": "code",
   "execution_count": 56,
   "metadata": {},
   "outputs": [
    {
     "name": "stdout",
     "output_type": "stream",
     "text": [
      "Primeiro bimestre: 10\n",
      "Segundo bimestre: 3\n",
      "Terceiro bimestre: 54\n",
      "Quarto bimestre: 3\n",
      "Foi informada alguma nota errada.\n"
     ]
    }
   ],
   "source": [
    "# Calcular a MÉDIA das notas\n",
    "\n",
    "a=int(input('Primeiro bimestre: '))\n",
    "b=int(input('Segundo bimestre: '))\n",
    "c=int(input('Terceiro bimestre: '))\n",
    "d=int(input('Quarto bimestre: '))\n",
    "\n",
    "media= (a+b+c+d)/4\n",
    "if a<=10 and b<=10 and c<=10 and d<=10:\n",
    "    print('Media = {}' .format(media))\n",
    "else:\n",
    "    print('Foi informada alguma nota errada.')\n"
   ]
  },
  {
   "cell_type": "code",
   "execution_count": 77,
   "metadata": {},
   "outputs": [
    {
     "name": "stdout",
     "output_type": "stream",
     "text": [
      "Primeiro bimestre: 4.5\n",
      "Segundo bimestre: 5.5\n",
      "Terceiro bimestre: 4.78\n",
      "Quarto bimestre: 10\n",
      "Media =  6.195\n",
      "Aprovado\n"
     ]
    }
   ],
   "source": [
    "# Calcular a MÉDIA das notas # tem jeito melhor de fazer, ver WHILE\n",
    "\n",
    "a=float(input('Primeiro bimestre: '))\n",
    "if a>10:\n",
    "    a=float(input('Digitou errada a nota do PRIMEIRO bimestre. \\nDigite novamente aqui:'))\n",
    "    \n",
    "b=float(input('Segundo bimestre: '))\n",
    "if b>10:\n",
    "    b=float(input('Digitou errada a nota do SEGUNDO bimestre. \\nDigite novamente aqui:'))\n",
    "\n",
    "c=float(input('Terceiro bimestre: '))\n",
    "if c>10:\n",
    "    c=float(input('Digitou errada a nota do TERCEIRO bimestre. \\nDigite novamente aqui:'))\n",
    "\n",
    "d=float(input('Quarto bimestre: '))\n",
    "if d>10:\n",
    "    d=float(input('Digitou errada a nota do QUARTO bimestre. \\nDigite novamente aqui:'))\n",
    "\n",
    "media= (a+b+c+d)/4\n",
    "\n",
    "print ('Media = ', media)\n",
    "if media<=6:\n",
    "    print('Reprovado')\n",
    "else:\n",
    "    print('Aprovado')"
   ]
  },
  {
   "cell_type": "markdown",
   "metadata": {},
   "source": [
    "# "
   ]
  },
  {
   "cell_type": "code",
   "execution_count": 78,
   "metadata": {},
   "outputs": [
    {
     "name": "stdout",
     "output_type": "stream",
     "text": [
      "afirmação falsa\n"
     ]
    }
   ],
   "source": [
    "if not 5==5:\n",
    "    print('afirmação verdadeira')\n",
    "else:\n",
    "    print('afirmação falsa')"
   ]
  },
  {
   "cell_type": "code",
   "execution_count": 79,
   "metadata": {},
   "outputs": [
    {
     "name": "stdout",
     "output_type": "stream",
     "text": [
      "0\n",
      "1\n",
      "2\n",
      "3\n",
      "4\n",
      "5\n",
      "6\n",
      "7\n",
      "8\n",
      "9\n"
     ]
    }
   ],
   "source": [
    "# FOR e RANGE\n",
    "for x in range(10):\n",
    "    print(x)"
   ]
  },
  {
   "cell_type": "code",
   "execution_count": 89,
   "metadata": {},
   "outputs": [
    {
     "name": "stdout",
     "output_type": "stream",
     "text": [
      "Entre um número para saber se é primo: 5\n",
      "1 0\n",
      "2 1\n",
      "3 2\n",
      "4 1\n",
      "5 0\n",
      "O número 5 é primo.\n"
     ]
    }
   ],
   "source": [
    "# descobrir se um número é primo\n",
    "\n",
    "a=int(input('Entre um número para saber se é primo: '))\n",
    "\n",
    "div=0\n",
    "for x in range(1, a+1):\n",
    "    resto=a%x\n",
    "    print(x, resto)\n",
    "    if resto==0:\n",
    "        div+=1\n",
    "\n",
    "if div==2:\n",
    "    print('O número {} é primo.' .format(a))\n",
    "    \n",
    "else:\n",
    "    print('{}  não é primo.' . format(a))\n",
    "\n",
    "\n"
   ]
  },
  {
   "cell_type": "code",
   "execution_count": 96,
   "metadata": {},
   "outputs": [
    {
     "name": "stdout",
     "output_type": "stream",
     "text": [
      "2\n",
      "3\n",
      "5\n",
      "7\n",
      "11\n",
      "13\n",
      "17\n",
      "19\n",
      "23\n",
      "29\n",
      "31\n",
      "37\n",
      "41\n",
      "43\n",
      "47\n",
      "53\n",
      "59\n",
      "61\n",
      "67\n",
      "71\n",
      "73\n",
      "79\n",
      "83\n",
      "89\n",
      "97\n"
     ]
    }
   ],
   "source": [
    "# saber quantos números primos tem de 0 a 100\n",
    "\n",
    "\n",
    "\n",
    "for i in range(101):\n",
    "#DICA- por ter colado o resto dos códigos pode selecionar tudo e apertar TAB para jogar dentro do FOR anterior\n",
    "    div=0\n",
    "    for x in range(1, i+1): # variavel i\n",
    "        resto=i%x    # variavel i\n",
    "        #print(x, resto)\n",
    "        if resto==0:\n",
    "            div+=1\n",
    "\n",
    "    if div==2:\n",
    "        print(i)"
   ]
  },
  {
   "cell_type": "code",
   "execution_count": 107,
   "metadata": {},
   "outputs": [
    {
     "name": "stdout",
     "output_type": "stream",
     "text": [
      "Entre com um número: 29\n",
      "Resultado de números primos:\n",
      "2\n",
      "3\n",
      "5\n",
      "7\n",
      "11\n",
      "13\n",
      "17\n",
      "19\n",
      "23\n",
      "29\n"
     ]
    }
   ],
   "source": [
    "# saber quantos números primos a critério do usuário\n",
    "\n",
    "a=int(input('Entre com um número: '))\n",
    "print('Resultado de números primos:')\n",
    "\n",
    "for i in range(a+1):  # a+1 é para pegar o número que o usuário digitou, ou poderia ser somente 'a'\n",
    "    \n",
    "#DICA- por ter copiado e colado o resto dos códigos pode selecionar tudo e apertar TAB para jogar dentro do FOR anterior\n",
    "    div=0\n",
    "    for x in range(1, i+1): # variavel i\n",
    "        resto=i%x    # variavel i\n",
    "        \n",
    "        if resto==0:\n",
    "            div+=1\n",
    "\n",
    "    if div==2:\n",
    "        print(i)"
   ]
  },
  {
   "cell_type": "code",
   "execution_count": 110,
   "metadata": {},
   "outputs": [
    {
     "name": "stdout",
     "output_type": "stream",
     "text": [
      "0\n",
      "1\n",
      "2\n",
      "3\n",
      "4\n",
      "5\n",
      "6\n",
      "7\n",
      "8\n",
      "9\n",
      "10\n"
     ]
    }
   ],
   "source": [
    "a=0\n",
    "while a<=10:\n",
    "    print(a)\n",
    "    a+=1"
   ]
  },
  {
   "cell_type": "code",
   "execution_count": 113,
   "metadata": {},
   "outputs": [
    {
     "name": "stdout",
     "output_type": "stream",
     "text": [
      "Entre com a nota: 54\n",
      "INVALIDO. Entre com a nota novamente: 45\n",
      "INVALIDO. Entre com a nota novamente: 5\n"
     ]
    }
   ],
   "source": [
    "# WHILE\n",
    "\n",
    "nota=float(input('Entre com a nota: '))\n",
    "\n",
    "while nota >10:\n",
    "    nota=float(input('INVALIDO. Entre com a nota novamente: '))\n",
    "\n"
   ]
  },
  {
   "cell_type": "code",
   "execution_count": 114,
   "metadata": {},
   "outputs": [
    {
     "name": "stdout",
     "output_type": "stream",
     "text": [
      "Primeiro bimestre: 45\n",
      "Digitou errada a nota do PRIMEIRO bimestre. \n",
      "Digite novamente aqui:5\n",
      "Segundo bimestre: 5.4\n",
      "Terceiro bimestre: 45\n",
      "Digitou errada a nota do TERCEIRO bimestre. \n",
      "Digite novamente aqui:5.5\n",
      "Quarto bimestre: 10\n",
      "Media =  6.475\n",
      "Aprovado\n"
     ]
    }
   ],
   "source": [
    "# Calcular a MÉDIA das notas # tem jeito melhor de fazer, ver WHILE\n",
    "\n",
    "# apenas substituir -- --  if por while -- -- \n",
    "\n",
    "a=float(input('Primeiro bimestre: '))\n",
    "# if a>10:\n",
    "while a>10:\n",
    "    a=float(input('Digitou errada a nota do PRIMEIRO bimestre. \\nDigite novamente aqui:'))\n",
    "    \n",
    "b=float(input('Segundo bimestre: '))\n",
    "while b>10:\n",
    "    b=float(input('Digitou errada a nota do SEGUNDO bimestre. \\nDigite novamente aqui:'))\n",
    "\n",
    "c=float(input('Terceiro bimestre: '))\n",
    "while c>10:\n",
    "    c=float(input('Digitou errada a nota do TERCEIRO bimestre. \\nDigite novamente aqui:'))\n",
    "\n",
    "d=float(input('Quarto bimestre: '))\n",
    "while d>10:\n",
    "    d=float(input('Digitou errada a nota do QUARTO bimestre. \\nDigite novamente aqui:'))\n",
    "\n",
    "media= (a+b+c+d)/4\n",
    "\n",
    "print ('Media = ', media)\n",
    "if media<=6:\n",
    "    print('Reprovado')\n",
    "else:\n",
    "    print('Aprovado')"
   ]
  },
  {
   "cell_type": "code",
   "execution_count": null,
   "metadata": {},
   "outputs": [],
   "source": []
  },
  {
   "cell_type": "code",
   "execution_count": 40,
   "metadata": {},
   "outputs": [
    {
     "name": "stdout",
     "output_type": "stream",
     "text": [
      "gato\n",
      "1\n",
      "3\n",
      "5\n",
      "7\n",
      "Soma = 16\n",
      "16\n",
      "7\n",
      "cachorro\n",
      "gato\n",
      "Existe gato na lista.\n",
      "Não existe na lista, mas será incluido:\n"
     ]
    },
    {
     "data": {
      "text/plain": [
       "['cachorro', 'gato', 'elefante', 'lobo']"
      ]
     },
     "metadata": {},
     "output_type": "display_data"
    },
    {
     "name": "stdout",
     "output_type": "stream",
     "text": [
      "['cachorro', 'gato', 'elefante']\n",
      "['gato', 'elefante']\n",
      "['gato']\n"
     ]
    }
   ],
   "source": [
    "# tupla,   Colunas e linas\n",
    "\n",
    "lista=[1,3,5,7]\n",
    "lista2=['cachorro', 'gato', 'elefante']\n",
    "\n",
    "print(lista2[1])\n",
    "\n",
    "\n",
    "soma=0\n",
    "\n",
    "for x in lista:\n",
    "    print(x)\n",
    "    soma+=x\n",
    "print('Soma =', soma) # aqui ele soma todos os valores em lista\n",
    "\n",
    "# OU AINDA, mais facil\n",
    "print(sum(lista))\n",
    "\n",
    "# maior valor da lista max, mas exite o min\n",
    "print(max(lista))\n",
    "\n",
    "#serve para string tambem, ordem alfabetica\n",
    "print(min(lista2))\n",
    "print(max(lista2))\n",
    "\n",
    "# verificar itens na lista\n",
    "\n",
    "if 'gato' in lista2:\n",
    "    print('Existe gato na lista.')\n",
    "else:\n",
    "    print('Não existe gato na lista.')\n",
    "    \n",
    " ###   \n",
    "if 'lobo' in lista2:\n",
    "    print('Existe na lista.')\n",
    "else:\n",
    "    print('Não existe na lista, mas será incluido:')\n",
    "   \n",
    "# incluir na lista\n",
    "    lista2.append('lobo')\n",
    "display(lista2)    \n",
    "\n",
    "# Excluir ultima posição\n",
    "lista2.pop()\n",
    "print(lista2)\n",
    "\n",
    "# retirar um item expecifico\n",
    "lista2.pop(0)\n",
    "print(lista2)\n",
    "\n",
    "# usando o remov\n",
    "lista2.remove('elefante')\n",
    "print(lista2)"
   ]
  },
  {
   "cell_type": "code",
   "execution_count": 51,
   "metadata": {},
   "outputs": [
    {
     "name": "stdout",
     "output_type": "stream",
     "text": [
      "['macaco', 'gato', 'elefante', 'cachorro', 'arara']\n",
      "['lobo', 'gato', 'elefante', 'cachorro', 'arara']\n",
      "['macaco', 'gato', 'elefante', 'cachorro', 'arara']\n",
      "5\n"
     ]
    }
   ],
   "source": [
    "# sort ordena a lista\n",
    "\n",
    "lista3=['lobo', 'gato', 'elefante', 'cachorro', 'arara']\n",
    "\n",
    "lista3.sort()\n",
    "print (lista)\n",
    "\n",
    "# reverse\n",
    "\n",
    "lista3.reverse()\n",
    "print(lista3)\n",
    "\n",
    "# substituir item\n",
    "\n",
    "lista3[0]='macaco'\n",
    "print(lista3)\n",
    "\n",
    "print(len(lista3))"
   ]
  },
  {
   "cell_type": "code",
   "execution_count": 57,
   "metadata": {},
   "outputs": [
    {
     "name": "stdout",
     "output_type": "stream",
     "text": [
      "(1, 10, 12, 14)\n",
      "<class 'tuple'>\n",
      "('macaco', 'gato', 'elefante', 'cachorro', 'arara')\n"
     ]
    }
   ],
   "source": [
    "# TUPLE\n",
    "#quando coloca a lista entre () ela fica imutavel, não será posivel substituir valores\n",
    "Tupla=(1,10,12,14)\n",
    "print(Tupla)\n",
    "\n",
    "# Aqui vai dar erro por não ser possivel alterar\n",
    "#Tupla[2]= 27\n",
    "\n",
    "#converter a lista3 para tuple\n",
    "lista3=tuple(lista3)\n",
    "print(type(lista3))\n",
    "print(lista3) #resultado virá entre ()"
   ]
  },
  {
   "cell_type": "code",
   "execution_count": null,
   "metadata": {},
   "outputs": [],
   "source": []
  }
 ],
 "metadata": {
  "kernelspec": {
   "display_name": "Python 3",
   "language": "python",
   "name": "python3"
  },
  "language_info": {
   "codemirror_mode": {
    "name": "ipython",
    "version": 3
   },
   "file_extension": ".py",
   "mimetype": "text/x-python",
   "name": "python",
   "nbconvert_exporter": "python",
   "pygments_lexer": "ipython3",
   "version": "3.8.5"
  }
 },
 "nbformat": 4,
 "nbformat_minor": 4
}
