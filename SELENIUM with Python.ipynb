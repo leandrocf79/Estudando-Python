{
 "cells": [
  {
   "cell_type": "raw",
   "id": "25996a2e",
   "metadata": {},
   "source": [
    "!pip install selenium"
   ]
  },
  {
   "cell_type": "markdown",
   "id": "d0f26133",
   "metadata": {},
   "source": [
    "# Praticando alguns comandos úteis para este curso:"
   ]
  },
  {
   "cell_type": "code",
   "execution_count": 83,
   "id": "1ff31385",
   "metadata": {},
   "outputs": [
    {
     "name": "stdout",
     "output_type": "stream",
     "text": [
      "10\n",
      "20\n",
      "30\n",
      "40\n",
      "50\n",
      "60\n"
     ]
    }
   ],
   "source": [
    "dados=[10,20,30,40,50,60]\n",
    "for elemento_atual in dados:\n",
    "    print(elemento_atual)"
   ]
  },
  {
   "cell_type": "code",
   "execution_count": 84,
   "id": "e510c3ec",
   "metadata": {},
   "outputs": [
    {
     "name": "stdout",
     "output_type": "stream",
     "text": [
      "10\n",
      "20\n"
     ]
    }
   ],
   "source": [
    "print(dados[0])\n",
    "print(dados[1])"
   ]
  },
  {
   "cell_type": "code",
   "execution_count": 85,
   "id": "027eea5b",
   "metadata": {},
   "outputs": [],
   "source": [
    "dados.append(70)"
   ]
  },
  {
   "cell_type": "code",
   "execution_count": 86,
   "id": "3caa7294",
   "metadata": {},
   "outputs": [
    {
     "data": {
      "text/plain": [
       "[10, 20, 30, 40, 50, 60, 70]"
      ]
     },
     "execution_count": 86,
     "metadata": {},
     "output_type": "execute_result"
    }
   ],
   "source": [
    "dados"
   ]
  },
  {
   "cell_type": "code",
   "execution_count": 87,
   "id": "4b440e3b",
   "metadata": {},
   "outputs": [
    {
     "name": "stdout",
     "output_type": "stream",
     "text": [
      "falso\n"
     ]
    }
   ],
   "source": [
    "if (10>20):\n",
    "    print(\"Verdadeiro\")\n",
    "else:\n",
    "    print(\"falso\")"
   ]
  },
  {
   "cell_type": "code",
   "execution_count": 88,
   "id": "d6710e91",
   "metadata": {},
   "outputs": [
    {
     "name": "stdout",
     "output_type": "stream",
     "text": [
      "10\n",
      "20\n",
      "30\n",
      "40\n",
      "50\n",
      "60\n",
      "10\n",
      "20\n",
      "[10, 20, 30, 40, 50, 60, 70]\n",
      "falso\n"
     ]
    }
   ],
   "source": [
    "dados=[10,20,30,40,50,60]\n",
    "for elemento_atual in dados:\n",
    "    print(elemento_atual)\n",
    "print(dados[0])\n",
    "print(dados[1])\n",
    "dados.append(70)\n",
    "print(dados)\n",
    "if (10>20):\n",
    "    print(\"Verdadeiro\")\n",
    "else:\n",
    "    print(\"falso\")"
   ]
  },
  {
   "cell_type": "markdown",
   "id": "5f95f703",
   "metadata": {},
   "source": [
    "# Iniciando navegador\n"
   ]
  },
  {
   "cell_type": "raw",
   "id": "994efb7b",
   "metadata": {},
   "source": [
    "from selenium import webdriver\n",
    "driver = webdriver.Chrome(executable_path=r\"C:\\Program Files\\Google\\chromedriver.exe\")\n",
    "# se for firefox\n",
    "# driver = webdriver.Firefox(executable_path=r\"C:\\Program Files\\\"\"firefox\"\"\\chromedriver.exe\")\n",
    "driver.get(\"https://www.google.com.br/\")"
   ]
  },
  {
   "cell_type": "raw",
   "id": "72ae50e9",
   "metadata": {},
   "source": [
    "Iniciando Trabalho"
   ]
  },
  {
   "cell_type": "markdown",
   "id": "edddda9f",
   "metadata": {},
   "source": [
    "# .find_element_by_id"
   ]
  },
  {
   "cell_type": "code",
   "execution_count": 89,
   "id": "bfff6ae3",
   "metadata": {},
   "outputs": [],
   "source": [
    "from selenium import webdriver\n",
    "drive_test=webdriver.Chrome(executable_path=r\"C:\\Program Files\\Google\\chromedriver.exe\")\n",
    "drive_test.get(\"https://www.infomoney.com.br/\")\n",
    "drive_test.implicitly_wait(5)  # import time   time.sleep(5)\n",
    "# salvar em texto\n",
    "dados_high_1=drive_test.find_element_by_id(\"high\").text\n",
    "dados_high_2=drive_test.find_elements_by_id(\"high\")[0].text # alterar o numero para pegar outra tabela com mesmo nome\n"
   ]
  },
  {
   "cell_type": "code",
   "execution_count": 90,
   "id": "4a0d6f89",
   "metadata": {},
   "outputs": [
    {
     "name": "stdout",
     "output_type": "stream",
     "text": [
      "AMER3 +5.82% R$ 37,40\n",
      "LAME4 +5.60% R$ 6,59\n",
      "CRFB3 +3.15% R$ 17,35\n",
      "BRML3 +3.14% R$ 8,53\n",
      "PETR4 +2.04% R$ 26,99\n",
      "----------------------\n",
      "AMER3 +5.82% R$ 37,40\n",
      "LAME4 +5.60% R$ 6,59\n",
      "CRFB3 +3.15% R$ 17,35\n",
      "BRML3 +3.14% R$ 8,53\n",
      "PETR4 +2.04% R$ 26,99\n"
     ]
    }
   ],
   "source": [
    "print(dados_high_1)\n",
    "print(\"----------------------\")\n",
    "print(dados_high_2)"
   ]
  },
  {
   "cell_type": "code",
   "execution_count": 91,
   "id": "ed92cbbd",
   "metadata": {},
   "outputs": [],
   "source": [
    "# Pesquisa valor celular"
   ]
  },
  {
   "cell_type": "code",
   "execution_count": 1,
   "id": "367364c0",
   "metadata": {},
   "outputs": [],
   "source": [
    "from selenium import webdriver\n",
    "drive_1=webdriver.Chrome(executable_path=r\"C:\\Program Files\\Google\\chromedriver.exe\")\n",
    "drive_1.get(\"https://www.magazineluiza.com.br/iphone-xr-128gb-branco-apple/p/eabf45d896/te/tcsp/\")\n",
    "drive_1.implicitly_wait(5)\n"
   ]
  },
  {
   "cell_type": "markdown",
   "id": "771e1568",
   "metadata": {},
   "source": [
    "# .find_element_by_class_name"
   ]
  },
  {
   "cell_type": "code",
   "execution_count": 2,
   "id": "a4c51b1a",
   "metadata": {},
   "outputs": [],
   "source": [
    "# MUITO CUIDADO COM O TIPO: ID, CLASSE etc  \n",
    "# .find_element_by_class_name, .find_element_by_id   \n",
    "nome_celular=drive_1.find_element_by_class_name(\"header-product__title\").text\n",
    "preco_celular=drive_1.find_element_by_class_name(\"price-template__text\").text"
   ]
  },
  {
   "cell_type": "code",
   "execution_count": 3,
   "id": "cb57d879",
   "metadata": {},
   "outputs": [
    {
     "name": "stdout",
     "output_type": "stream",
     "text": [
      "iPhone XR 128GB - Branco - Apple\n",
      "5.499,00\n"
     ]
    }
   ],
   "source": [
    "print(nome_celular)\n",
    "print(preco_celular)"
   ]
  },
  {
   "cell_type": "code",
   "execution_count": null,
   "id": "72dd553d",
   "metadata": {},
   "outputs": [],
   "source": []
  },
  {
   "cell_type": "code",
   "execution_count": 95,
   "id": "ba8ad3fa",
   "metadata": {},
   "outputs": [],
   "source": [
    "#extrair dados através do MESMO tipo de classe"
   ]
  },
  {
   "cell_type": "code",
   "execution_count": 96,
   "id": "d0ebdac9",
   "metadata": {},
   "outputs": [],
   "source": [
    "drive=webdriver.Chrome(executable_path=r\"C:\\Program Files\\Google\\chromedriver.exe\")\n",
    "drive.get(\"https://statusinvest.com.br/fundos-imobiliarios/drit11b#go-earning-section\")\n",
    "drive.implicitly_wait(3)"
   ]
  },
  {
   "cell_type": "code",
   "execution_count": 103,
   "id": "b6b56f95",
   "metadata": {},
   "outputs": [
    {
     "name": "stdout",
     "output_type": "stream",
     "text": [
      "131,34\n",
      "0,65\n",
      "0,72\n",
      "-17,41\n",
      "-11,94\n",
      "332\n"
     ]
    }
   ],
   "source": [
    "dados_0=drive.find_element_by_class_name(\"value\").text  # sem \"s\"\n",
    "dados_1=drive.find_elements_by_class_name(\"value\")[5].text\n",
    "dados_2=drive.find_elements_by_class_name(\"value\")[6].text\n",
    "dados_3=drive.find_elements_by_class_name(\"value\")[7].text\n",
    "dados_4=drive.find_elements_by_class_name(\"value\")[8].text\n",
    "dados_5=drive.find_elements_by_class_name(\"value\")[9].text\n",
    "dados_6=drive.find_elements_by_class_name(\"value\")[10].text\n",
    "\n",
    "print(dados_1)\n",
    "print(dados_2)\n",
    "print(dados_3)\n",
    "print(dados_4)\n",
    "print(dados_5)\n",
    "print(dados_6)\n",
    "\n"
   ]
  },
  {
   "cell_type": "code",
   "execution_count": 104,
   "id": "f8e524d6",
   "metadata": {},
   "outputs": [
    {
     "name": "stdout",
     "output_type": "stream",
     "text": [
      "131,34 0,65 0,72 -17,41 -11,94 332\n"
     ]
    }
   ],
   "source": [
    "print(dados_1, dados_2, dados_3, dados_4,  dados_5,  dados_6)"
   ]
  },
  {
   "cell_type": "markdown",
   "id": "7e73e22d",
   "metadata": {},
   "source": [
    "# .find_element_by_tag_name"
   ]
  },
  {
   "cell_type": "code",
   "execution_count": 91,
   "id": "e6d54918",
   "metadata": {},
   "outputs": [],
   "source": [
    "from selenium import webdriver\n",
    "\n",
    "driver=webdriver.Chrome(executable_path=r\"C:\\Program Files\\Google\\chromedriver.exe\")\n",
    "driver.get(\"https://statusinvest.com.br/fundos-imobiliarios/drit11b#go-earning-section\")\n",
    "driver.implicitly_wait(7)\n"
   ]
  },
  {
   "cell_type": "code",
   "execution_count": 92,
   "id": "ffa10a4f",
   "metadata": {},
   "outputs": [],
   "source": [
    "valor_patrimonio = driver.find_elements_by_tag_name(\"div\")[174].text\n",
    "valor_de_mercado = driver.find_elements_by_tag_name(\"div\")[178].text\n",
    "valor_em_caixa = driver.find_elements_by_tag_name(\"div\")[182].text\n",
    "cotistas = driver.find_elements_by_tag_name(\"div\")[194].text"
   ]
  },
  {
   "cell_type": "code",
   "execution_count": 93,
   "id": "95afe07a",
   "metadata": {},
   "outputs": [
    {
     "name": "stdout",
     "output_type": "stream",
     "text": [
      "VAL. PATRIMONIAL P/COTA\n",
      "R$ 131,34\n",
      "PATRIMÔNIO\n",
      "R$ 60.846.176 \n",
      "\n",
      "P/VP\n",
      "0,65\n",
      "VALOR DE MERCADO\n",
      "R$ 39.392.443 \n",
      "\n",
      "VALOR EM CAIXA\n",
      "0,72 %\n",
      "TOTAL\n",
      "R$ 438.886,24 \n",
      "\n",
      "Nº DE COTISTAS\n",
      "332\n",
      "Nº DE COTAS\n",
      "463.277\n"
     ]
    }
   ],
   "source": [
    "print(valor_patrimonio,\"\\n\")\n",
    "print(valor_de_mercado,\"\\n\")\n",
    "print(valor_em_caixa,\"\\n\")\n",
    "print(cotistas)"
   ]
  },
  {
   "cell_type": "code",
   "execution_count": 120,
   "id": "a2e3f85a",
   "metadata": {},
   "outputs": [
    {
     "name": "stdout",
     "output_type": "stream",
     "text": [
      "Tipo       Data\t      Pagamento  Valor\n",
      "RENDIMENTO 05/11/2021 12/11/2021 0,49000000\n",
      "RENDIMENTO 07/10/2021 15/10/2021 0,46000000\n",
      "RENDIMENTO 08/09/2021 15/09/2021 0,32000000\n",
      "RENDIMENTO 06/08/2021 13/08/2021 0,34000000\n",
      "RENDIMENTO 07/07/2021 15/07/2021 0,34000000\n",
      "RENDIMENTO 07/06/2021 15/06/2021 0,33000000\n",
      "RENDIMENTO 06/05/2021 14/05/2021 0,25000000\n",
      "RENDIMENTO 08/04/2021 15/04/2021 0,36000000\n",
      "RENDIMENTO 04/02/2021 12/02/2021 0,30000000\n",
      "RENDIMENTO 07/01/2021 15/01/2021 0,30000000\n",
      "RENDIMENTO 07/12/2020 15/12/2020 0,15000000\n",
      "RENDIMENTO 05/11/2020 13/11/2020 0,50000000\n"
     ]
    }
   ],
   "source": [
    "#tabela_rendimentos = driver.find_elements_by_tag_name(\"div\")[288].text\n",
    "#titulo_rendimentos = driver.find_elements_by_tag_name(\"thead\")[0].text\n",
    "\n",
    "# da pra melhorar!\n",
    "print(\"Tipo\", \"      Data\\t\", \"     Pagamento\", \" Valor\")\n",
    "tabela_rendimentos = driver.find_elements_by_tag_name(\"tbody\")[0].text\n",
    "\n",
    "print(tabela_rendimentos)\n"
   ]
  },
  {
   "cell_type": "code",
   "execution_count": null,
   "id": "2dff3543",
   "metadata": {},
   "outputs": [],
   "source": []
  },
  {
   "cell_type": "markdown",
   "id": "d8b34fee",
   "metadata": {},
   "source": [
    "# enviar texto na caixa - input "
   ]
  },
  {
   "cell_type": "code",
   "execution_count": 121,
   "id": "2d2c14e9",
   "metadata": {},
   "outputs": [],
   "source": [
    "from selenium import webdriver\n",
    "driver=webdriver.Chrome(executable_path=r\"C:\\Program Files\\Google\\chromedriver.exe\")\n",
    "driver.get(\"https://www.google.com/\")\n",
    "import time\n",
    "time.sleep(3)\n"
   ]
  },
  {
   "cell_type": "code",
   "execution_count": 137,
   "id": "1be547a1",
   "metadata": {},
   "outputs": [],
   "source": [
    "pesquisa = driver.find_elements_by_name(\"q\")[0]\n",
    "from selenium.webdriver.common.keys import Keys\n",
    "pesquisa.send_keys(\"Concurso Público\" + Keys.ENTER)\n"
   ]
  },
  {
   "cell_type": "code",
   "execution_count": null,
   "id": "294a5ba6",
   "metadata": {},
   "outputs": [],
   "source": []
  }
 ],
 "metadata": {
  "kernelspec": {
   "display_name": "Python 3",
   "language": "python",
   "name": "python3"
  },
  "language_info": {
   "codemirror_mode": {
    "name": "ipython",
    "version": 3
   },
   "file_extension": ".py",
   "mimetype": "text/x-python",
   "name": "python",
   "nbconvert_exporter": "python",
   "pygments_lexer": "ipython3",
   "version": "3.8.8"
  }
 },
 "nbformat": 4,
 "nbformat_minor": 5
}
